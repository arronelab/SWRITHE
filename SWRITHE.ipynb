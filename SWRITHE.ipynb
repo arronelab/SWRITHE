{
 "cells": [
  {
   "cell_type": "markdown",
   "id": "1fabdc91",
   "metadata": {},
   "source": [
    "# SWRITHE"
   ]
  },
  {
   "cell_type": "markdown",
   "id": "d8eeccf8",
   "metadata": {},
   "source": [
    "Before you use this notebook, make sure you have ran *make* in the directory to build necessary packages"
   ]
  },
  {
   "cell_type": "code",
   "execution_count": null,
   "id": "ab800b6a",
   "metadata": {},
   "outputs": [],
   "source": [
    "import swrithe_tools as sw"
   ]
  },
  {
   "cell_type": "markdown",
   "id": "285c229b",
   "metadata": {},
   "source": [
    "### Specify your PDB code of interest below."
   ]
  },
  {
   "cell_type": "code",
   "execution_count": null,
   "id": "2d1afa20",
   "metadata": {},
   "outputs": [],
   "source": [
    "pdb_code=\"3F1L\""
   ]
  },
  {
   "cell_type": "markdown",
   "id": "e9c6e6c6",
   "metadata": {},
   "source": [
    "The function *get_pdb* retrieves a PDB file from RCSB, and saves it in a new folder named *molecules*"
   ]
  },
  {
   "cell_type": "code",
   "execution_count": null,
   "id": "baf0c35d",
   "metadata": {},
   "outputs": [],
   "source": [
    "sw.get_pdb(pdb_code)"
   ]
  },
  {
   "cell_type": "markdown",
   "id": "4b955547",
   "metadata": {},
   "source": [
    "As standard we consider the first chain in the PDB file, run the below cell and check this is the chain you are interested in. If not, you can change the index in the first line."
   ]
  },
  {
   "cell_type": "code",
   "execution_count": null,
   "id": "5a6e2d53",
   "metadata": {},
   "outputs": [],
   "source": [
    "chain_id=sw.get_chains_from_biotite(pdb_code)[0]\n",
    "print(\"Analysing Chain\",chain_id)"
   ]
  },
  {
   "cell_type": "markdown",
   "id": "c48e8fdf",
   "metadata": {},
   "source": [
    "The next cell will compute the SKMT smoothed representation of your protein.\\\n",
    "Secondary structure prediction is performed by PSIPRED<sup>[1]</sup>"
   ]
  },
  {
   "cell_type": "code",
   "execution_count": null,
   "id": "68ba37d2",
   "metadata": {},
   "outputs": [],
   "source": [
    "sw.skmt(pdb_code,chain_id)"
   ]
  },
  {
   "cell_type": "markdown",
   "id": "a2edc471",
   "metadata": {},
   "source": [
    "The next cell allows you to view the SKMT smoothed representation of your protein"
   ]
  },
  {
   "cell_type": "code",
   "execution_count": null,
   "id": "96f73d93",
   "metadata": {},
   "outputs": [],
   "source": [
    "sw.plot_molecule_tube(pdb_code)"
   ]
  },
  {
   "cell_type": "markdown",
   "id": "fe04dea3",
   "metadata": {},
   "source": [
    "# Calculate the writhe fingerprint (writhe of all subsections)"
   ]
  },
  {
   "cell_type": "code",
   "execution_count": null,
   "id": "28572319",
   "metadata": {},
   "outputs": [],
   "source": [
    "sw.calculate_writheFP(pdb_code)"
   ]
  },
  {
   "cell_type": "markdown",
   "id": "600c1fb9",
   "metadata": {},
   "source": [
    "Plot the writhe as a function of length and check for any helical subsections "
   ]
  },
  {
   "cell_type": "code",
   "execution_count": null,
   "id": "7f9c5fe9",
   "metadata": {},
   "outputs": [],
   "source": [
    "sw.writhePlot(pdb_code,highlight_helical_subsections=True)"
   ]
  },
  {
   "cell_type": "markdown",
   "id": "11c3aa9d",
   "metadata": {},
   "source": [
    "Visualise your molecule with the helical subsections highlighted"
   ]
  },
  {
   "cell_type": "code",
   "execution_count": null,
   "id": "3d8c1df7",
   "metadata": {},
   "outputs": [],
   "source": [
    "sw.view_molecule_helical(\"3F1L\")"
   ]
  },
  {
   "cell_type": "markdown",
   "id": "29efa18e",
   "metadata": {},
   "source": [
    "Plot the acn as a function of length"
   ]
  },
  {
   "cell_type": "code",
   "execution_count": null,
   "id": "75e0f2f9",
   "metadata": {},
   "outputs": [],
   "source": [
    "sw.acnPlot(pdb_code)"
   ]
  },
  {
   "cell_type": "markdown",
   "id": "65546198",
   "metadata": {},
   "source": [
    "# Pairwise Comparison of Molecules"
   ]
  },
  {
   "cell_type": "markdown",
   "id": "c748ee70",
   "metadata": {},
   "source": [
    "The first cell returns the mutually similar subsections, along with the percentage coverage of the respective molecules.\\\n",
    "The second cell will plot both curves, with the mutually similar subsections highlighted in the same colour."
   ]
  },
  {
   "cell_type": "code",
   "execution_count": null,
   "id": "160c1559",
   "metadata": {},
   "outputs": [],
   "source": [
    "sw.compare_molecules(pdb_code,\"1P1X\",0.05)"
   ]
  },
  {
   "cell_type": "code",
   "execution_count": null,
   "id": "7abc8a91",
   "metadata": {},
   "outputs": [],
   "source": [
    "sw.view_similar_sections(pdb_code,\"1P1X\",0.05)"
   ]
  },
  {
   "cell_type": "markdown",
   "id": "4aeac516",
   "metadata": {},
   "source": [
    "# Comparing a molecule to the current database (used in the paper)"
   ]
  },
  {
   "cell_type": "markdown",
   "id": "3d8ad89b",
   "metadata": {},
   "source": [
    "This cell will run a full similarity comparison to the database used in the paper.\\\n",
    "*Note:* any new structures you have downloaded from the PDB using this notebook will also have been added to the database."
   ]
  },
  {
   "cell_type": "code",
   "execution_count": null,
   "id": "84d7c674",
   "metadata": {},
   "outputs": [],
   "source": [
    "sw.compareToDatabase(pdb_code)"
   ]
  },
  {
   "cell_type": "markdown",
   "id": "93571b12",
   "metadata": {},
   "source": [
    "## Finding globally similar structures"
   ]
  },
  {
   "cell_type": "markdown",
   "id": "ce9e3c34",
   "metadata": {},
   "source": [
    "If you would like to find proteins in our database that are globally similar to your own then run the following cell.\\\n",
    "The second parameter is the similarity cut off, which we set as 0.05 as standard.\\\n",
    "The third parameter is the percentage coverage by the similar subsections for both protein, we recommend setting this as 0.8 for globally similar proteins."
   ]
  },
  {
   "cell_type": "code",
   "execution_count": null,
   "id": "c151b738",
   "metadata": {},
   "outputs": [],
   "source": [
    "sw.find_globally_similar_proteins('3F1L',cutoff=0.05,pc_sim=0.8)"
   ]
  },
  {
   "cell_type": "markdown",
   "id": "9c85da4f",
   "metadata": {},
   "source": [
    "## Finding structures as domains"
   ]
  },
  {
   "cell_type": "markdown",
   "id": "b29f392b",
   "metadata": {},
   "source": [
    "The following cell looks for proteins in the database for which your protein is structurally similar to a subset of.\\\n",
    "The second parameter is the similarity cut off, we set it as 0.1 to here to match the example given in the paper.\\\n",
    "The third parameter is the percentage coverage by the similar subsections of your comparison protein, in this instance we would set it as 1 to ask for the similar subsections to account for the entirety of your comparison protein."
   ]
  },
  {
   "cell_type": "code",
   "execution_count": null,
   "id": "3d47bb18",
   "metadata": {},
   "outputs": [],
   "source": [
    "sw.find_subset_similarities(pdb_code,cutoff=0.05,pc_sim=1.)"
   ]
  },
  {
   "cell_type": "markdown",
   "id": "559877e2",
   "metadata": {},
   "source": [
    "## Examples"
   ]
  },
  {
   "cell_type": "markdown",
   "id": "06d3cf71",
   "metadata": {},
   "source": [
    "### 1) Investigating the Rossmann Fold - TIM Barrel Relationship"
   ]
  },
  {
   "cell_type": "markdown",
   "id": "3ea82c55",
   "metadata": {},
   "source": [
    "First we compare 3F1L to the database at 80% shared coverage."
   ]
  },
  {
   "cell_type": "code",
   "execution_count": null,
   "id": "a9700e2e",
   "metadata": {},
   "outputs": [],
   "source": [
    "sw.compareToDatabase('3F1L')"
   ]
  },
  {
   "cell_type": "markdown",
   "id": "5575164a",
   "metadata": {},
   "source": [
    "Then we view the share of CATH topology classifications for the similar proteins."
   ]
  },
  {
   "cell_type": "code",
   "execution_count": null,
   "id": "dec942b1",
   "metadata": {},
   "outputs": [],
   "source": [
    "sw.view_CATH_percentages('3F1L',0.05,0.8)"
   ]
  },
  {
   "cell_type": "markdown",
   "id": "51d65720",
   "metadata": {},
   "source": [
    "### 2) A knotted protein"
   ]
  },
  {
   "cell_type": "markdown",
   "id": "6bcc9947",
   "metadata": {},
   "source": [
    "First we compare 2RH3 (a trefoil knotted protein) to the database at 80% shared coverage"
   ]
  },
  {
   "cell_type": "code",
   "execution_count": null,
   "id": "67b068e2",
   "metadata": {},
   "outputs": [],
   "source": [
    "sw.compareToDatabase('2RH3')"
   ]
  },
  {
   "cell_type": "code",
   "execution_count": null,
   "id": "279c9a5c",
   "metadata": {},
   "outputs": [],
   "source": [
    "sw.find_globally_similar_proteins('2RH3',cutoff=0.05,pc_sim=0.8)"
   ]
  },
  {
   "cell_type": "code",
   "execution_count": null,
   "id": "52c4e391",
   "metadata": {},
   "outputs": [],
   "source": [
    "sw.view_similar_sections('2RH3',\"7YTT\",0.05)"
   ]
  },
  {
   "cell_type": "markdown",
   "id": "e3386663",
   "metadata": {},
   "source": [
    "[1] Buchan DWA, Jones DT (2019). The PSIPRED Protein Analysis Workbench: 20 years on. Nucleic Acids Research. https://doi.org/10.1093/nar/gkz297"
   ]
  }
 ],
 "metadata": {
  "kernelspec": {
   "display_name": "Python 3 (ipykernel)",
   "language": "python",
   "name": "python3"
  },
  "language_info": {
   "codemirror_mode": {
    "name": "ipython",
    "version": 3
   },
   "file_extension": ".py",
   "mimetype": "text/x-python",
   "name": "python",
   "nbconvert_exporter": "python",
   "pygments_lexer": "ipython3",
   "version": "3.11.5"
  }
 },
 "nbformat": 4,
 "nbformat_minor": 5
}
