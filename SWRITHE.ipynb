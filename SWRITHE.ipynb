{
 "cells": [
  {
   "cell_type": "markdown",
   "id": "1fabdc91",
   "metadata": {},
   "source": [
    "# SWRITHE"
   ]
  },
  {
   "cell_type": "markdown",
   "id": "d8eeccf8",
   "metadata": {},
   "source": [
    "Before you use this notebook, make sure you have ran *make* in the directory to build necessary packages"
   ]
  },
  {
   "cell_type": "code",
   "execution_count": null,
   "id": "ab800b6a",
   "metadata": {},
   "outputs": [],
   "source": [
    "import swrithe_tools as sw"
   ]
  },
  {
   "cell_type": "markdown",
   "id": "285c229b",
   "metadata": {},
   "source": [
    "### Specify your PDB code of interest below."
   ]
  },
  {
   "cell_type": "code",
   "execution_count": null,
   "id": "2d1afa20",
   "metadata": {},
   "outputs": [],
   "source": [
    "pdb_code=\"3F1L\""
   ]
  },
  {
   "cell_type": "markdown",
   "id": "e9c6e6c6",
   "metadata": {},
   "source": [
    "The function *get_pdb* retrieves a PDB file from RCSB, and saves it in a new folder named *molecules*"
   ]
  },
  {
   "cell_type": "code",
   "execution_count": null,
   "id": "baf0c35d",
   "metadata": {},
   "outputs": [],
   "source": [
    "sw.get_pdb(pdb_code)"
   ]
  },
  {
   "cell_type": "markdown",
   "id": "4b955547",
   "metadata": {},
   "source": [
    "As standard we consider the first chain in the PDB file, run the below cell and check this is the chain you are interested in. If not, you can change the index in the first line."
   ]
  },
  {
   "cell_type": "code",
   "execution_count": null,
   "id": "5a6e2d53",
   "metadata": {},
   "outputs": [],
   "source": [
    "chain_id=sw.get_chains_from_biotite(pdb_code)[0]\n",
    "print(\"Analysing Chain\",chain_id)"
   ]
  },
  {
   "cell_type": "markdown",
   "id": "c48e8fdf",
   "metadata": {},
   "source": [
    "The next cell will compute the SKMT smoothed representation of your protein."
   ]
  },
  {
   "cell_type": "code",
   "execution_count": null,
   "id": "68ba37d2",
   "metadata": {},
   "outputs": [],
   "source": [
    "sw.skmt(pdb_code,chain_id)"
   ]
  },
  {
   "cell_type": "markdown",
   "id": "a2edc471",
   "metadata": {},
   "source": [
    "The next cell allows you to view the SKMT smoothed representation of your protein"
   ]
  },
  {
   "cell_type": "code",
   "execution_count": null,
   "id": "96f73d93",
   "metadata": {},
   "outputs": [],
   "source": [
    "sw.plot_molecule_tube(pdb_code)"
   ]
  },
  {
   "cell_type": "markdown",
   "id": "fe04dea3",
   "metadata": {},
   "source": [
    "# Calculate the writhe fingerprint (writhe of all subsections)"
   ]
  },
  {
   "cell_type": "code",
   "execution_count": null,
   "id": "28572319",
   "metadata": {},
   "outputs": [],
   "source": [
    "sw.calculate_writheFP(pdb_code)"
   ]
  },
  {
   "cell_type": "markdown",
   "id": "600c1fb9",
   "metadata": {},
   "source": [
    "Plot the writhe as a function of length and check for any helical subsections "
   ]
  },
  {
   "cell_type": "code",
   "execution_count": null,
   "id": "7f9c5fe9",
   "metadata": {},
   "outputs": [],
   "source": [
    "sw.writhePlot(pdb_code,highlight_helical_subsections=True)"
   ]
  },
  {
   "cell_type": "markdown",
   "id": "94e1dddc",
   "metadata": {},
   "source": [
    "Visualise your molecule with the helical subsections highlighted"
   ]
  },
  {
   "cell_type": "code",
   "execution_count": null,
   "id": "3d8c1df7",
   "metadata": {},
   "outputs": [],
   "source": [
    "sw.view_molecule_helical(\"3F1L\")"
   ]
  },
  {
   "cell_type": "markdown",
   "id": "749aac6e",
   "metadata": {},
   "source": [
    "Plot the acn as a function of length"
   ]
  },
  {
   "cell_type": "code",
   "execution_count": null,
   "id": "739d3e29",
   "metadata": {},
   "outputs": [],
   "source": [
    "sw.acnPlot(pdb_code)"
   ]
  },
  {
   "cell_type": "markdown",
   "id": "65546198",
   "metadata": {},
   "source": [
    "# Pairwise Comparison of Molecules"
   ]
  },
  {
   "cell_type": "markdown",
   "id": "c748ee70",
   "metadata": {},
   "source": [
    "The first cell returns the mutually similar subsections, along with the percentage coverage of the respective molecules. The second cell will plot both curves, with the mutually similar subsections highlighted in the same colour."
   ]
  },
  {
   "cell_type": "code",
   "execution_count": null,
   "id": "160c1559",
   "metadata": {},
   "outputs": [],
   "source": [
    "sw.compare_molecules(pdb_code,\"1P1X\",0.05)"
   ]
  },
  {
   "cell_type": "code",
   "execution_count": null,
   "id": "7abc8a91",
   "metadata": {},
   "outputs": [],
   "source": [
    "sw.view_similar_sections(pdb_code,\"1P1X\",0.05)"
   ]
  },
  {
   "cell_type": "markdown",
   "id": "4aeac516",
   "metadata": {},
   "source": [
    "# Comparing a molecule to the current database (used in the paper)"
   ]
  },
  {
   "cell_type": "markdown",
   "id": "acba8db6",
   "metadata": {},
   "source": [
    "This cell will run a full similarity comparison to the database used in the paper. Note that any new structures you have downloaded from the PDB using this notebook will also have been added to the database."
   ]
  },
  {
   "cell_type": "code",
   "execution_count": null,
   "id": "84d7c674",
   "metadata": {},
   "outputs": [],
   "source": [
    "sw.compareToDatabase(pdb_code)"
   ]
  }
 ],
 "metadata": {
  "kernelspec": {
   "display_name": "Python 3 (ipykernel)",
   "language": "python",
   "name": "python3"
  },
  "language_info": {
   "codemirror_mode": {
    "name": "ipython",
    "version": 3
   },
   "file_extension": ".py",
   "mimetype": "text/x-python",
   "name": "python",
   "nbconvert_exporter": "python",
   "pygments_lexer": "ipython3",
   "version": "3.11.5"
  }
 },
 "nbformat": 4,
 "nbformat_minor": 5
}
